{
 "cells": [
  {
   "cell_type": "markdown",
   "metadata": {
    "collapsed": false
   },
   "source": [
    "# Analysis of mobile apps' profitability\n",
    "For this project, I need to assist a company that makes free apps in the English language for mobile phones. The company needs to develop a new app, and I will help with suggestions based on the analysis of existing data. \n",
    "I used the data of apps in App Store and Google Play Store to define what app genre could be the most profitable. "
   ]
  },
  {
   "cell_type": "markdown",
   "metadata": {},
   "source": [
    "Firstly, I open both files using reader() function from imported module CSV."
   ]
  },
  {
   "cell_type": "code",
   "execution_count": 1,
   "metadata": {
    "collapsed": true
   },
   "outputs": [],
   "source": [
    "opened_file1 = open('AppleStore.csv')\n",
    "opened_file2 = open('googleplaystore.csv')\n",
    "from csv import reader\n",
    "read_file1 = reader(opened_file1)\n",
    "read_file2 = reader(opened_file2)\n",
    "appst_data = list(read_file1)\n",
    "google_data = list(read_file2)"
   ]
  },
  {
   "cell_type": "markdown",
   "metadata": {},
   "source": [
    "I want to understand two datasets in hands, i.e. how many apps are there and columns. Dataquest team suggests to use their function as below."
   ]
  },
  {
   "cell_type": "code",
   "execution_count": 2,
   "metadata": {
    "collapsed": true
   },
   "outputs": [],
   "source": [
    "def explore_data(dataset, start, end, rows_and_columns=False):\n",
    "    dataset_slice = dataset[start:end]    \n",
    "    for row in dataset_slice:\n",
    "        print(row)\n",
    "        print('\\n') # adds a new (empty) line after each row\n",
    "\n",
    "    if rows_and_columns:\n",
    "        print('Number of rows:', len(dataset))\n",
    "        print('Number of columns:', len(dataset[0]))"
   ]
  },
  {
   "cell_type": "markdown",
   "metadata": {},
   "source": [
    "Furhther, I want to explore the nature of App Store dataset: the header row and how the data is stored. "
   ]
  },
  {
   "cell_type": "code",
   "execution_count": 3,
   "metadata": {
    "collapsed": false,
    "scrolled": true
   },
   "outputs": [
    {
     "name": "stdout",
     "output_type": "stream",
     "text": [
      "['id', 'track_name', 'size_bytes', 'currency', 'price', 'rating_count_tot', 'rating_count_ver', 'user_rating', 'user_rating_ver', 'ver', 'cont_rating', 'prime_genre', 'sup_devices.num', 'ipadSc_urls.num', 'lang.num', 'vpp_lic']\n",
      "\n",
      "\n",
      "['284882215', 'Facebook', '389879808', 'USD', '0.0', '2974676', '212', '3.5', '3.5', '95.0', '4+', 'Social Networking', '37', '1', '29', '1']\n",
      "\n",
      "\n",
      "['389801252', 'Instagram', '113954816', 'USD', '0.0', '2161558', '1289', '4.5', '4.0', '10.23', '12+', 'Photo & Video', '37', '0', '29', '1']\n",
      "\n",
      "\n",
      "['529479190', 'Clash of Clans', '116476928', 'USD', '0.0', '2130805', '579', '4.5', '4.5', '9.24.12', '9+', 'Games', '38', '5', '18', '1']\n",
      "\n",
      "\n",
      "['420009108', 'Temple Run', '65921024', 'USD', '0.0', '1724546', '3842', '4.5', '4.0', '1.6.2', '9+', 'Games', '40', '5', '1', '1']\n",
      "\n",
      "\n",
      "Number of rows: 7198\n",
      "Number of columns: 16\n",
      "None\n"
     ]
    }
   ],
   "source": [
    "appst_sample_data = explore_data(appst_data, 0, 5, rows_and_columns=True)\n",
    "print(appst_sample_data) "
   ]
  },
  {
   "cell_type": "markdown",
   "metadata": {},
   "source": [
    "Code abow shows that the dataset with apps from App Store has 7197 apps (7198 minus header row). Each app has 16 parametres, including id, genres, user rating, etc. \n",
    "I want to use the same function to explore the dataset with apps from Google Play Store. "
   ]
  },
  {
   "cell_type": "code",
   "execution_count": 4,
   "metadata": {
    "collapsed": false
   },
   "outputs": [
    {
     "name": "stdout",
     "output_type": "stream",
     "text": [
      "['App', 'Category', 'Rating', 'Reviews', 'Size', 'Installs', 'Type', 'Price', 'Content Rating', 'Genres', 'Last Updated', 'Current Ver', 'Android Ver']\n",
      "\n",
      "\n",
      "['Photo Editor & Candy Camera & Grid & ScrapBook', 'ART_AND_DESIGN', '4.1', '159', '19M', '10,000+', 'Free', '0', 'Everyone', 'Art & Design', 'January 7, 2018', '1.0.0', '4.0.3 and up']\n",
      "\n",
      "\n",
      "['Coloring book moana', 'ART_AND_DESIGN', '3.9', '967', '14M', '500,000+', 'Free', '0', 'Everyone', 'Art & Design;Pretend Play', 'January 15, 2018', '2.0.0', '4.0.3 and up']\n",
      "\n",
      "\n",
      "['U Launcher Lite – FREE Live Cool Themes, Hide Apps', 'ART_AND_DESIGN', '4.7', '87510', '8.7M', '5,000,000+', 'Free', '0', 'Everyone', 'Art & Design', 'August 1, 2018', '1.2.4', '4.0.3 and up']\n",
      "\n",
      "\n",
      "['Sketch - Draw & Paint', 'ART_AND_DESIGN', '4.5', '215644', '25M', '50,000,000+', 'Free', '0', 'Teen', 'Art & Design', 'June 8, 2018', 'Varies with device', '4.2 and up']\n",
      "\n",
      "\n",
      "Number of rows: 10842\n",
      "Number of columns: 13\n"
     ]
    }
   ],
   "source": [
    "google_sample_data = explore_data(google_data, 0, 5, rows_and_columns = True)\n",
    "google_sample_data"
   ]
  },
  {
   "cell_type": "markdown",
   "metadata": {
    "collapsed": false
   },
   "source": [
    "Code above shows that Google Play Store dataset contains data of 10841 apps. Each app has 13 columns with information about it, including name, category, reiews, etc. "
   ]
  },
  {
   "cell_type": "markdown",
   "metadata": {},
   "source": [
    "Both datasets are taken from Kaggle. On the forum dedicated to Google Play Store dataset, I found that one of the entries (10472) is incorrect. I want to check how that entry looks to see deviations from other apps. "
   ]
  },
  {
   "cell_type": "code",
   "execution_count": 5,
   "metadata": {
    "collapsed": false,
    "scrolled": false
   },
   "outputs": [
    {
     "data": {
      "text/plain": [
       "['Life Made WI-Fi Touchscreen Photo Frame',\n",
       " '1.9',\n",
       " '19',\n",
       " '3.0M',\n",
       " '1,000+',\n",
       " 'Free',\n",
       " '0',\n",
       " 'Everyone',\n",
       " '',\n",
       " 'February 11, 2018',\n",
       " '1.0.19',\n",
       " '4.0 and up']"
      ]
     },
     "execution_count": 5,
     "metadata": {},
     "output_type": "execute_result"
    }
   ],
   "source": [
    "google_data[10473] #considering that I still have a header in that list"
   ]
  },
  {
   "cell_type": "markdown",
   "metadata": {},
   "source": [
    "The app above misses information from the column \"Category\", which makes all information after the app's name incorrect. I want to remove this app, so it does not affect my further analysis. "
   ]
  },
  {
   "cell_type": "code",
   "execution_count": 6,
   "metadata": {
    "collapsed": true
   },
   "outputs": [],
   "source": [
    "del google_data[10473]"
   ]
  },
  {
   "cell_type": "markdown",
   "metadata": {},
   "source": [
    "I explored the discussion session of Kaggle a bit more. One of the contributors said that the dataset of Google Play Store had some duplicats. I want to explore it using several popular apps as an example. "
   ]
  },
  {
   "cell_type": "code",
   "execution_count": 7,
   "metadata": {
    "collapsed": false
   },
   "outputs": [
    {
     "name": "stdout",
     "output_type": "stream",
     "text": [
      "['Instagram', 'SOCIAL', '4.5', '66577313', 'Varies with device', '1,000,000,000+', 'Free', '0', 'Teen', 'Social', 'July 31, 2018', 'Varies with device', 'Varies with device']\n",
      "['Instagram', 'SOCIAL', '4.5', '66577446', 'Varies with device', '1,000,000,000+', 'Free', '0', 'Teen', 'Social', 'July 31, 2018', 'Varies with device', 'Varies with device']\n",
      "['Instagram', 'SOCIAL', '4.5', '66577313', 'Varies with device', '1,000,000,000+', 'Free', '0', 'Teen', 'Social', 'July 31, 2018', 'Varies with device', 'Varies with device']\n",
      "['Instagram', 'SOCIAL', '4.5', '66509917', 'Varies with device', '1,000,000,000+', 'Free', '0', 'Teen', 'Social', 'July 31, 2018', 'Varies with device', 'Varies with device']\n"
     ]
    }
   ],
   "source": [
    "for app in google_data:\n",
    "    name = app[0]\n",
    "    if name == 'Instagram':\n",
    "        print(app)"
   ]
  },
  {
   "cell_type": "code",
   "execution_count": 8,
   "metadata": {
    "collapsed": false
   },
   "outputs": [
    {
     "name": "stdout",
     "output_type": "stream",
     "text": [
      "['Facebook', 'SOCIAL', '4.1', '78158306', 'Varies with device', '1,000,000,000+', 'Free', '0', 'Teen', 'Social', 'August 3, 2018', 'Varies with device', 'Varies with device']\n",
      "['Facebook', 'SOCIAL', '4.1', '78128208', 'Varies with device', '1,000,000,000+', 'Free', '0', 'Teen', 'Social', 'August 3, 2018', 'Varies with device', 'Varies with device']\n"
     ]
    }
   ],
   "source": [
    "for app in google_data:\n",
    "    name = app[0]\n",
    "    if name == 'Facebook':\n",
    "        print(app)"
   ]
  },
  {
   "cell_type": "markdown",
   "metadata": {},
   "source": [
    "It seems that Google Play dataset has more than one duplicate app. I want to explore the number of duplicates in the dataset. "
   ]
  },
  {
   "cell_type": "code",
   "execution_count": 9,
   "metadata": {
    "collapsed": false
   },
   "outputs": [
    {
     "name": "stdout",
     "output_type": "stream",
     "text": [
      "1181\n",
      "['Quick PDF Scanner + OCR FREE', 'Box', 'Google My Business', 'ZOOM Cloud Meetings', 'join.me - Simple Meetings', 'Box']\n"
     ]
    }
   ],
   "source": [
    "duplicate_apps = []\n",
    "unique_apps = []\n",
    "for app in google_data:\n",
    "    name = app[0]\n",
    "    if name in unique_apps:\n",
    "        duplicate_apps.append(name)\n",
    "    else:\n",
    "        unique_apps.append(name)\n",
    "        \n",
    "print(len(duplicate_apps))\n",
    "print(duplicate_apps[:6])"
   ]
  },
  {
   "cell_type": "markdown",
   "metadata": {},
   "source": [
    "Code above shows that Google Play Store dataset has 1181 duplicates. I need to use rule of thumb to decide which entries of the same app I should remove and which should keep. \n",
    "Detailed exploration of Instagram entries showed that the main difference between entries is the number of reviews. I assume that the most recent version of an app has the biggest amount of reviews. Thus, for each set of duplicates I want to keep an entry with the biggest amount of reviews. "
   ]
  },
  {
   "cell_type": "code",
   "execution_count": 10,
   "metadata": {
    "collapsed": false
   },
   "outputs": [
    {
     "name": "stdout",
     "output_type": "stream",
     "text": [
      "9659\n"
     ]
    }
   ],
   "source": [
    "reviews_max = {} #firstly, I want to create a dictionary with unique apps\n",
    "for app in google_data[1:]:\n",
    "    name = app[0]\n",
    "    n_reviews = float(app[3]) #all information in the list is given in the string format, so I need to transform it\n",
    "    if name in reviews_max and reviews_max[name] < n_reviews:\n",
    "        reviews_max[name] = n_reviews #I rewrite entries the way that only entries with the biggest amount of reviews are left\n",
    "    if name not in reviews_max:\n",
    "        reviews_max[name] = n_reviews\n",
    "print(len(reviews_max))"
   ]
  },
  {
   "cell_type": "code",
   "execution_count": 11,
   "metadata": {
    "collapsed": false
   },
   "outputs": [
    {
     "name": "stdout",
     "output_type": "stream",
     "text": [
      "9659\n"
     ]
    }
   ],
   "source": [
    "android_clean = [] #further, I want to have a list of unique apps\n",
    "already_added = []\n",
    "for app in google_data[1:]:\n",
    "    name = app[0]\n",
    "    n_reviews = float(app[3])\n",
    "    if (reviews_max[name] == n_reviews) and (name not in already_added):\n",
    "        android_clean.append(app)\n",
    "        already_added.append(name)\n",
    "google_header = google_data[0]\n",
    "print(len(android_clean))"
   ]
  },
  {
   "cell_type": "markdown",
   "metadata": {},
   "source": [
    "Thus, the dataset of unqiue apps from Google Play Store has information about 9659 apps (in the code above I removed the header dataset and added it to the string google_header). \n",
    "Before moving to further analysis, I want to check if App Store dataset also has duplicates. The forum says nothing but better safe than sorry. "
   ]
  },
  {
   "cell_type": "code",
   "execution_count": 12,
   "metadata": {
    "collapsed": false
   },
   "outputs": [
    {
     "name": "stdout",
     "output_type": "stream",
     "text": [
      "2\n",
      "['Mannequin Challenge', 'VR Roller Coaster']\n"
     ]
    }
   ],
   "source": [
    "duplicate_ap_apps = []\n",
    "unique_ap_apps = []\n",
    "for app in appst_data:\n",
    "    name = app[1]\n",
    "    if name in unique_ap_apps:\n",
    "        duplicate_ap_apps.append(name)\n",
    "    else:\n",
    "        unique_ap_apps.append(name)\n",
    "        \n",
    "print(len(duplicate_ap_apps))\n",
    "print(duplicate_ap_apps[:6])"
   ]
  },
  {
   "cell_type": "markdown",
   "metadata": {},
   "source": [
    "Apple Store Dataset also has duplicate entries for two apps. I want to explore the difference between several entries. "
   ]
  },
  {
   "cell_type": "code",
   "execution_count": 13,
   "metadata": {
    "collapsed": false
   },
   "outputs": [
    {
     "name": "stdout",
     "output_type": "stream",
     "text": [
      "['1173990889', 'Mannequin Challenge', '109705216', 'USD', '0.0', '668', '87', '3.0', '3.0', '1.4', '9+', 'Games', '37', '4', '1', '1']\n",
      "['1178454060', 'Mannequin Challenge', '59572224', 'USD', '0.0', '105', '58', '4.0', '4.5', '1.0.1', '4+', 'Games', '38', '5', '1', '1']\n"
     ]
    }
   ],
   "source": [
    "for app in appst_data:\n",
    "    if app[1] == 'Mannequin Challenge':\n",
    "        print(app)"
   ]
  },
  {
   "cell_type": "markdown",
   "metadata": {},
   "source": [
    "I will use the same rule of thumb for App Store dataset: the most recent entry is an entry that has the biggest reviews total rating (the column after price, [5]). I will clean the data the same way: firstly make a dictionary, then add unique apps to a list. "
   ]
  },
  {
   "cell_type": "code",
   "execution_count": 14,
   "metadata": {
    "collapsed": false
   },
   "outputs": [
    {
     "name": "stdout",
     "output_type": "stream",
     "text": [
      "7195\n"
     ]
    }
   ],
   "source": [
    "reviews_app_max = {} \n",
    "for app in appst_data[1:]:\n",
    "    name = app[1]\n",
    "    n_reviews = float(app[5])\n",
    "    if name in reviews_app_max and reviews_app_max[name] < n_reviews:\n",
    "        reviews_app_max[name] = n_reviews\n",
    "    if name not in reviews_app_max:\n",
    "        reviews_app_max[name] = n_reviews\n",
    "print(len(reviews_app_max))"
   ]
  },
  {
   "cell_type": "code",
   "execution_count": 15,
   "metadata": {
    "collapsed": false
   },
   "outputs": [
    {
     "name": "stdout",
     "output_type": "stream",
     "text": [
      "7195\n"
     ]
    }
   ],
   "source": [
    "appst_clean = [] \n",
    "already_appst_added = []\n",
    "for app in appst_data[1:]:\n",
    "    name = app[1]\n",
    "    n_reviews = float(app[5])\n",
    "    if (reviews_app_max[name] == n_reviews) and (name not in already_appst_added):\n",
    "        appst_clean.append(app)\n",
    "        already_appst_added.append(name)\n",
    "apple_header = appst_data[0]\n",
    "print(len(appst_clean))"
   ]
  },
  {
   "cell_type": "markdown",
   "metadata": {},
   "source": [
    "I removed all duplicates from App Store dataset and derived the header to a separate string. Now I have two lists, appst_clean and android_clean, which have  no duplicates. "
   ]
  },
  {
   "cell_type": "markdown",
   "metadata": {},
   "source": [
    "The company I make an analysis for is solely specialized in English language games. There are apps in both Google Play Store and App Store that are not in the English language (for example, Chinese). Having these apps in the analysis will affect validity, since trends could be different for Chinese language users compared to English language users. Thus, I want to remove all applications that have other than English-language symbols in the title. For that, I will consider ASCII (American standard code for information interchange), according to which English letters and symbols have numbers from 0 to 127. I will write a function to define apps that are not in the required range and then apply this function. "
   ]
  },
  {
   "cell_type": "code",
   "execution_count": 16,
   "metadata": {
    "collapsed": true
   },
   "outputs": [],
   "source": [
    "def is_English(string):\n",
    "    non_ascii = 0\n",
    "    \n",
    "    for character in string:\n",
    "        if ord(character) > 127: #ord() refers to the ASCII system\n",
    "            non_ascii += 1\n",
    "    \n",
    "    if non_ascii > 3: #some apps could have symbols, e.g. emojies, but still have the title with English symbols. To prevent removing valid apps, I add a rule of at least 3 non-ascii charaters\n",
    "        return False\n",
    "    else:\n",
    "        return True"
   ]
  },
  {
   "cell_type": "code",
   "execution_count": 17,
   "metadata": {
    "collapsed": false
   },
   "outputs": [],
   "source": [
    "#Now I keep lists only with English-language apps for both stores\n",
    "android_english = []\n",
    "ios_english = []\n",
    "\n",
    "for app in android_clean:\n",
    "    if is_English(app[0]):\n",
    "        android_english.append(app)\n",
    "        \n",
    "for app in appst_clean:\n",
    "    if is_English(app[1]):\n",
    "        ios_english.append(app)"
   ]
  },
  {
   "cell_type": "code",
   "execution_count": 18,
   "metadata": {
    "collapsed": false
   },
   "outputs": [
    {
     "data": {
      "text/plain": [
       "6181"
      ]
     },
     "execution_count": 18,
     "metadata": {},
     "output_type": "execute_result"
    }
   ],
   "source": [
    "len(ios_english) #want to check how many App Store apps are left for further analysis"
   ]
  },
  {
   "cell_type": "code",
   "execution_count": 19,
   "metadata": {
    "collapsed": false
   },
   "outputs": [
    {
     "data": {
      "text/plain": [
       "9614"
      ]
     },
     "execution_count": 19,
     "metadata": {},
     "output_type": "execute_result"
    }
   ],
   "source": [
    "len(android_english) #the same"
   ]
  },
  {
   "cell_type": "markdown",
   "metadata": {},
   "source": [
    "Although the number of apps has already decreased, I need to add another filter. The company I am making this project for is also interested only in free apps; thus, to keep the validity of the results, I need to take into further analysis only free apps. "
   ]
  },
  {
   "cell_type": "code",
   "execution_count": 20,
   "metadata": {
    "collapsed": false
   },
   "outputs": [],
   "source": [
    "android_final = []\n",
    "ios_final = []\n",
    "\n",
    "for app in android_english:\n",
    "    if app[7] == '0':\n",
    "        android_final.append(app)\n",
    "\n",
    "for app in ios_english:\n",
    "    if app[4] == '0.0':\n",
    "        ios_final.append(app)"
   ]
  },
  {
   "cell_type": "code",
   "execution_count": 21,
   "metadata": {
    "collapsed": false
   },
   "outputs": [
    {
     "data": {
      "text/plain": [
       "8864"
      ]
     },
     "execution_count": 21,
     "metadata": {},
     "output_type": "execute_result"
    }
   ],
   "source": [
    "len(android_final)"
   ]
  },
  {
   "cell_type": "code",
   "execution_count": 22,
   "metadata": {
    "collapsed": false
   },
   "outputs": [
    {
     "data": {
      "text/plain": [
       "3220"
      ]
     },
     "execution_count": 22,
     "metadata": {},
     "output_type": "execute_result"
    }
   ],
   "source": [
    "len(ios_final)"
   ]
  },
  {
   "cell_type": "markdown",
   "metadata": {},
   "source": [
    "As given by this guided project's assignment, the company I work for wants to start with making a base app for Android. If the app is profitable, they will further develop it; if within 6 months is is still profitable, they will make this app for iOs as well. In the end, both stores should have this app. Therefore, I need to find a genre that is popular both in App Store and Google Play Store."
   ]
  },
  {
   "cell_type": "markdown",
   "metadata": {},
   "source": [
    "I will make a function that creates a frequency table for popular genres. "
   ]
  },
  {
   "cell_type": "code",
   "execution_count": 23,
   "metadata": {
    "collapsed": true
   },
   "outputs": [],
   "source": [
    "def freq_table(dataset, index):\n",
    "    freq_dictionary = {} #I start with counting the number of apps of each genre\n",
    "    for row in dataset:\n",
    "        value = row[index]\n",
    "        if value in freq_dictionary:\n",
    "            freq_dictionary[value] += 1\n",
    "        else:\n",
    "            freq_dictionary[value] = 1\n",
    "    \n",
    "    freq_perc_dictionary = {} #I want to transform it into the frequency table with percentages\n",
    "    total = 0\n",
    "    for key in freq_dictionary:\n",
    "        count = freq_dictionary[key]\n",
    "        total += count #I add the amount of games from each genre\n",
    "    \n",
    "    for key in freq_dictionary:\n",
    "        percentage = freq_dictionary[key] / total * 100 #I transform the number into percentages\n",
    "        freq_perc_dictionary[key] = percentage\n",
    "    \n",
    "    return freq_perc_dictionary\n",
    "\n",
    "def display_table(dataset, index): #I want to sort keys in frequency table in order of their values\n",
    "    table = freq_table(dataset, index)\n",
    "    table_display = []\n",
    "    for key in table:\n",
    "        key_val_as_tuple = (table[key], key)\n",
    "        table_display.append(key_val_as_tuple)\n",
    "\n",
    "    table_sorted = sorted(table_display, reverse = True)\n",
    "    for entry in table_sorted:\n",
    "        print(entry[1], ':', entry[0])"
   ]
  },
  {
   "cell_type": "markdown",
   "metadata": {},
   "source": [
    "Once the function is defined, I want to see what app genres are more popular in App Store. "
   ]
  },
  {
   "cell_type": "code",
   "execution_count": 24,
   "metadata": {
    "collapsed": false
   },
   "outputs": [
    {
     "name": "stdout",
     "output_type": "stream",
     "text": [
      "Games : 58.13664596273293\n",
      "Entertainment : 7.888198757763975\n",
      "Photo & Video : 4.968944099378882\n",
      "Education : 3.6645962732919255\n",
      "Social Networking : 3.291925465838509\n",
      "Shopping : 2.608695652173913\n",
      "Utilities : 2.515527950310559\n",
      "Sports : 2.142857142857143\n",
      "Music : 2.049689440993789\n",
      "Health & Fitness : 2.018633540372671\n",
      "Productivity : 1.7391304347826086\n",
      "Lifestyle : 1.5838509316770186\n",
      "News : 1.3354037267080745\n",
      "Travel : 1.2422360248447204\n",
      "Finance : 1.1180124223602486\n",
      "Weather : 0.8695652173913043\n",
      "Food & Drink : 0.8074534161490683\n",
      "Reference : 0.5590062111801243\n",
      "Business : 0.5279503105590062\n",
      "Book : 0.43478260869565216\n",
      "Navigation : 0.18633540372670807\n",
      "Medical : 0.18633540372670807\n",
      "Catalogs : 0.12422360248447205\n"
     ]
    }
   ],
   "source": [
    "ios_populargen = display_table(ios_final, 11)\n",
    "ios_populargen"
   ]
  },
  {
   "cell_type": "markdown",
   "metadata": {},
   "source": [
    "The most popular genre among developers of ENG free aps on iOs is Games. Such genres as Entertainment, Photo & Video, and social networking are following Games in the number of apps in the store. Catalogs, medical, and navigation apps are least popular among developers (meaning that there is the smallest amount of apps for these genres). \n",
    "It seems that there are more apps in App Store for fun applications. However, it does not mean that more users prefer fun apps."
   ]
  },
  {
   "cell_type": "code",
   "execution_count": 25,
   "metadata": {
    "collapsed": false
   },
   "outputs": [
    {
     "name": "stdout",
     "output_type": "stream",
     "text": [
      "FAMILY : 18.907942238267147\n",
      "GAME : 9.724729241877256\n",
      "TOOLS : 8.461191335740072\n",
      "BUSINESS : 4.591606498194946\n",
      "LIFESTYLE : 3.9034296028880866\n",
      "PRODUCTIVITY : 3.892148014440433\n",
      "FINANCE : 3.7003610108303246\n",
      "MEDICAL : 3.531137184115524\n",
      "SPORTS : 3.395758122743682\n",
      "PERSONALIZATION : 3.3167870036101084\n",
      "COMMUNICATION : 3.2378158844765346\n",
      "HEALTH_AND_FITNESS : 3.0798736462093865\n",
      "PHOTOGRAPHY : 2.944494584837545\n",
      "NEWS_AND_MAGAZINES : 2.7978339350180503\n",
      "SOCIAL : 2.6624548736462095\n",
      "TRAVEL_AND_LOCAL : 2.33528880866426\n",
      "SHOPPING : 2.2450361010830324\n",
      "BOOKS_AND_REFERENCE : 2.1435018050541514\n",
      "DATING : 1.861462093862816\n",
      "VIDEO_PLAYERS : 1.7937725631768955\n",
      "MAPS_AND_NAVIGATION : 1.3989169675090252\n",
      "FOOD_AND_DRINK : 1.2409747292418771\n",
      "EDUCATION : 1.1620036101083033\n",
      "ENTERTAINMENT : 0.9589350180505415\n",
      "LIBRARIES_AND_DEMO : 0.9363718411552346\n",
      "AUTO_AND_VEHICLES : 0.9250902527075812\n",
      "HOUSE_AND_HOME : 0.8235559566787004\n",
      "WEATHER : 0.8009927797833934\n",
      "EVENTS : 0.7107400722021661\n",
      "PARENTING : 0.6543321299638989\n",
      "ART_AND_DESIGN : 0.6430505415162455\n",
      "COMICS : 0.6204873646209386\n",
      "BEAUTY : 0.5979241877256317\n"
     ]
    }
   ],
   "source": [
    "android_popcat = display_table(android_final, 1)\n",
    "android_popcat"
   ]
  },
  {
   "cell_type": "markdown",
   "metadata": {},
   "source": [
    "In Google Play Store, Family, games, and tools are most popular categories among app developers. Business and lifestyle are also close to the top; it seems that apps for not-fun purposes are more popular in Google Play Store than in App Store."
   ]
  },
  {
   "cell_type": "code",
   "execution_count": 26,
   "metadata": {
    "collapsed": false
   },
   "outputs": [
    {
     "name": "stdout",
     "output_type": "stream",
     "text": [
      "Tools : 8.449909747292418\n",
      "Entertainment : 6.069494584837545\n",
      "Education : 5.347472924187725\n",
      "Business : 4.591606498194946\n",
      "Productivity : 3.892148014440433\n",
      "Lifestyle : 3.892148014440433\n",
      "Finance : 3.7003610108303246\n",
      "Medical : 3.531137184115524\n",
      "Sports : 3.463447653429603\n",
      "Personalization : 3.3167870036101084\n",
      "Communication : 3.2378158844765346\n",
      "Action : 3.1024368231046933\n",
      "Health & Fitness : 3.0798736462093865\n",
      "Photography : 2.944494584837545\n",
      "News & Magazines : 2.7978339350180503\n",
      "Social : 2.6624548736462095\n",
      "Travel & Local : 2.3240072202166067\n",
      "Shopping : 2.2450361010830324\n",
      "Books & Reference : 2.1435018050541514\n",
      "Simulation : 2.0419675090252705\n",
      "Dating : 1.861462093862816\n",
      "Arcade : 1.8501805054151623\n",
      "Video Players & Editors : 1.7712093862815883\n",
      "Casual : 1.7599277978339352\n",
      "Maps & Navigation : 1.3989169675090252\n",
      "Food & Drink : 1.2409747292418771\n",
      "Puzzle : 1.128158844765343\n",
      "Racing : 0.9927797833935018\n",
      "Role Playing : 0.9363718411552346\n",
      "Libraries & Demo : 0.9363718411552346\n",
      "Auto & Vehicles : 0.9250902527075812\n",
      "Strategy : 0.9138086642599278\n",
      "House & Home : 0.8235559566787004\n",
      "Weather : 0.8009927797833934\n",
      "Events : 0.7107400722021661\n",
      "Adventure : 0.6768953068592057\n",
      "Comics : 0.6092057761732852\n",
      "Beauty : 0.5979241877256317\n",
      "Art & Design : 0.5979241877256317\n",
      "Parenting : 0.4963898916967509\n",
      "Card : 0.45126353790613716\n",
      "Casino : 0.42870036101083037\n",
      "Trivia : 0.41741877256317694\n",
      "Educational;Education : 0.39485559566787\n",
      "Board : 0.3835740072202166\n",
      "Educational : 0.3722924187725632\n",
      "Education;Education : 0.33844765342960287\n",
      "Word : 0.2594765342960289\n",
      "Casual;Pretend Play : 0.236913357400722\n",
      "Music : 0.2030685920577617\n",
      "Racing;Action & Adventure : 0.16922382671480143\n",
      "Puzzle;Brain Games : 0.16922382671480143\n",
      "Entertainment;Music & Video : 0.16922382671480143\n",
      "Casual;Brain Games : 0.13537906137184114\n",
      "Casual;Action & Adventure : 0.13537906137184114\n",
      "Arcade;Action & Adventure : 0.12409747292418773\n",
      "Action;Action & Adventure : 0.10153429602888085\n",
      "Educational;Pretend Play : 0.09025270758122744\n",
      "Simulation;Action & Adventure : 0.078971119133574\n",
      "Parenting;Education : 0.078971119133574\n",
      "Entertainment;Brain Games : 0.078971119133574\n",
      "Board;Brain Games : 0.078971119133574\n",
      "Parenting;Music & Video : 0.06768953068592057\n",
      "Educational;Brain Games : 0.06768953068592057\n",
      "Casual;Creativity : 0.06768953068592057\n",
      "Art & Design;Creativity : 0.06768953068592057\n",
      "Education;Pretend Play : 0.056407942238267145\n",
      "Role Playing;Pretend Play : 0.04512635379061372\n",
      "Education;Creativity : 0.04512635379061372\n",
      "Role Playing;Action & Adventure : 0.033844765342960284\n",
      "Puzzle;Action & Adventure : 0.033844765342960284\n",
      "Entertainment;Creativity : 0.033844765342960284\n",
      "Entertainment;Action & Adventure : 0.033844765342960284\n",
      "Educational;Creativity : 0.033844765342960284\n",
      "Educational;Action & Adventure : 0.033844765342960284\n",
      "Education;Music & Video : 0.033844765342960284\n",
      "Education;Brain Games : 0.033844765342960284\n",
      "Education;Action & Adventure : 0.033844765342960284\n",
      "Adventure;Action & Adventure : 0.033844765342960284\n",
      "Video Players & Editors;Music & Video : 0.02256317689530686\n",
      "Sports;Action & Adventure : 0.02256317689530686\n",
      "Simulation;Pretend Play : 0.02256317689530686\n",
      "Puzzle;Creativity : 0.02256317689530686\n",
      "Music;Music & Video : 0.02256317689530686\n",
      "Entertainment;Pretend Play : 0.02256317689530686\n",
      "Casual;Education : 0.02256317689530686\n",
      "Board;Action & Adventure : 0.02256317689530686\n",
      "Video Players & Editors;Creativity : 0.01128158844765343\n",
      "Trivia;Education : 0.01128158844765343\n",
      "Travel & Local;Action & Adventure : 0.01128158844765343\n",
      "Tools;Education : 0.01128158844765343\n",
      "Strategy;Education : 0.01128158844765343\n",
      "Strategy;Creativity : 0.01128158844765343\n",
      "Strategy;Action & Adventure : 0.01128158844765343\n",
      "Simulation;Education : 0.01128158844765343\n",
      "Role Playing;Brain Games : 0.01128158844765343\n",
      "Racing;Pretend Play : 0.01128158844765343\n",
      "Puzzle;Education : 0.01128158844765343\n",
      "Parenting;Brain Games : 0.01128158844765343\n",
      "Music & Audio;Music & Video : 0.01128158844765343\n",
      "Lifestyle;Pretend Play : 0.01128158844765343\n",
      "Lifestyle;Education : 0.01128158844765343\n",
      "Health & Fitness;Education : 0.01128158844765343\n",
      "Health & Fitness;Action & Adventure : 0.01128158844765343\n",
      "Entertainment;Education : 0.01128158844765343\n",
      "Communication;Creativity : 0.01128158844765343\n",
      "Comics;Creativity : 0.01128158844765343\n",
      "Casual;Music & Video : 0.01128158844765343\n",
      "Card;Action & Adventure : 0.01128158844765343\n",
      "Books & Reference;Education : 0.01128158844765343\n",
      "Art & Design;Pretend Play : 0.01128158844765343\n",
      "Art & Design;Action & Adventure : 0.01128158844765343\n",
      "Arcade;Pretend Play : 0.01128158844765343\n",
      "Adventure;Education : 0.01128158844765343\n"
     ]
    }
   ],
   "source": [
    "android_popgen = display_table(android_final, 9)\n",
    "android_popgen"
   ]
  },
  {
   "cell_type": "markdown",
   "metadata": {},
   "source": [
    "The most popular genres among free Google Play Store apps are tools, entertainment, education, business, and productivity. This information supports my hypothesis about practical apps being more popular (at least among developers) in Google Play Store compared to App Store. \n",
    "However, I need to see what is actually more popular among users. To do so, I need to focus on the columns indicating number of installs. Google Play Store has such data, while App Store only has the total count of ratings as the closest to installations column. Using this logic, I will calculate number of installs for different stores per genre. "
   ]
  },
  {
   "cell_type": "code",
   "execution_count": 27,
   "metadata": {
    "collapsed": false
   },
   "outputs": [
    {
     "name": "stdout",
     "output_type": "stream",
     "text": [
      "Navigation : 86090.33333333333\n",
      "Catalogs : 4004.0\n",
      "Travel : 28243.8\n",
      "Finance : 31467.944444444445\n",
      "Photo & Video : 28441.54375\n",
      "Health & Fitness : 23298.015384615384\n",
      "Shopping : 26919.690476190477\n",
      "News : 21248.023255813954\n",
      "Education : 7003.983050847458\n",
      "Weather : 52279.892857142855\n",
      "Music : 57326.530303030304\n",
      "Medical : 612.0\n",
      "Reference : 74942.11111111111\n",
      "Food & Drink : 33333.92307692308\n",
      "Business : 7491.117647058823\n",
      "Games : 22812.92467948718\n",
      "Lifestyle : 16485.764705882353\n",
      "Productivity : 21028.410714285714\n",
      "Sports : 23008.898550724636\n",
      "Entertainment : 14029.830708661417\n",
      "Book : 39758.5\n",
      "Utilities : 18684.456790123455\n",
      "Social Networking : 71548.34905660378\n"
     ]
    }
   ],
   "source": [
    "genres_ios = freq_table(ios_final, -5) #I firstly make the frequency table for genres\n",
    "\n",
    "for genre in genres_ios:\n",
    "    total = 0\n",
    "    len_genre = 0\n",
    "    for app in ios_final:\n",
    "        genre_app = app[11]\n",
    "        if genre_app == genre:\n",
    "            user_ratings = float(app[5])\n",
    "            total += user_ratings\n",
    "            len_genre += 1\n",
    "    avg_ratings_genre = total / len_genre\n",
    "    print(genre, \":\", avg_ratings_genre)"
   ]
  },
  {
   "cell_type": "markdown",
   "metadata": {
    "collapsed": true
   },
   "source": [
    "In App Store, apps with genre Navigation have the biggest amount of installations. Next place is Reference, followed by Social networks, Music, and Weather. I want to explore what are the most popular apps in those genres. "
   ]
  },
  {
   "cell_type": "code",
   "execution_count": 28,
   "metadata": {
    "collapsed": false
   },
   "outputs": [
    {
     "name": "stdout",
     "output_type": "stream",
     "text": [
      "Waze - GPS Navigation, Maps & Real-time Traffic : 345046\n",
      "Google Maps - Navigation & Transit : 154911\n",
      "Geocaching® : 12811\n",
      "CoPilot GPS – Car Navigation & Offline Maps : 3582\n",
      "ImmobilienScout24: Real Estate Search in Germany : 187\n",
      "Railway Route Search : 5\n"
     ]
    }
   ],
   "source": [
    "for app in ios_final:\n",
    "    if app[11] == 'Navigation':\n",
    "        print(app[1], ':', app[5])"
   ]
  },
  {
   "cell_type": "markdown",
   "metadata": {},
   "source": [
    "Navigation is dominated by Waze and Google Maps; even the third app is not installed as often. It has two consequences: it might be hard to compete with such giants and the overall category is not as popular as it seems based on the amount of ratings alone. "
   ]
  },
  {
   "cell_type": "code",
   "execution_count": 29,
   "metadata": {
    "collapsed": false
   },
   "outputs": [
    {
     "name": "stdout",
     "output_type": "stream",
     "text": [
      "Bible : 985920\n",
      "Dictionary.com Dictionary & Thesaurus : 200047\n",
      "Dictionary.com Dictionary & Thesaurus for iPad : 54175\n",
      "Google Translate : 26786\n",
      "Muslim Pro: Ramadan 2017 Prayer Times, Azan, Quran : 18418\n",
      "New Furniture Mods - Pocket Wiki & Game Tools for Minecraft PC Edition : 17588\n",
      "Merriam-Webster Dictionary : 16849\n",
      "Night Sky : 12122\n",
      "City Maps for Minecraft PE - The Best Maps for Minecraft Pocket Edition (MCPE) : 8535\n",
      "LUCKY BLOCK MOD ™ for Minecraft PC Edition - The Best Pocket Wiki & Mods Installer Tools : 4693\n",
      "GUNS MODS for Minecraft PC Edition - Mods Tools : 1497\n",
      "Guides for Pokémon GO - Pokemon GO News and Cheats : 826\n",
      "WWDC : 762\n",
      "Horror Maps for Minecraft PE - Download The Scariest Maps for Minecraft Pocket Edition (MCPE) Free : 718\n",
      "VPN Express : 14\n",
      "Real Bike Traffic Rider Virtual Reality Glasses : 8\n",
      "教えて!goo : 0\n",
      "Jishokun-Japanese English Dictionary & Translator : 0\n"
     ]
    }
   ],
   "source": [
    "for app in ios_final:\n",
    "    if app[11] == 'Reference':\n",
    "        print(app[1], ':', app[5])"
   ]
  },
  {
   "cell_type": "markdown",
   "metadata": {},
   "source": [
    "Reference is dominated by religious books, dictionaries and guides to games (Minecraft and Pokemon). It is an interesting idea for an app - to make an entertaining app with the reference category. "
   ]
  },
  {
   "cell_type": "code",
   "execution_count": 31,
   "metadata": {
    "collapsed": false,
    "scrolled": false
   },
   "outputs": [
    {
     "name": "stdout",
     "output_type": "stream",
     "text": [
      "Facebook : 2974676\n",
      "Pinterest : 1061624\n",
      "Skype for iPhone : 373519\n",
      "Messenger : 351466\n",
      "Tumblr : 334293\n",
      "WhatsApp Messenger : 287589\n",
      "Kik : 260965\n",
      "ooVoo – Free Video Call, Text and Voice : 177501\n",
      "TextNow - Unlimited Text + Calls : 164963\n",
      "Viber Messenger – Text & Call : 164249\n",
      "Followers - Social Analytics For Instagram : 112778\n",
      "MeetMe - Chat and Meet New People : 97072\n",
      "We Heart It - Fashion, wallpapers, quotes, tattoos : 90414\n",
      "InsTrack for Instagram - Analytics Plus More : 85535\n",
      "Tango - Free Video Call, Voice and Chat : 75412\n",
      "LinkedIn : 71856\n",
      "Match™ - #1 Dating App. : 60659\n",
      "Skype for iPad : 60163\n",
      "POF - Best Dating App for Conversations : 52642\n",
      "Timehop : 49510\n",
      "Find My Family, Friends & iPhone - Life360 Locator : 43877\n",
      "Whisper - Share, Express, Meet : 39819\n",
      "Hangouts : 36404\n",
      "LINE PLAY - Your Avatar World : 34677\n",
      "WeChat : 34584\n",
      "Badoo - Meet New People, Chat, Socialize. : 34428\n",
      "Followers + for Instagram - Follower Analytics : 28633\n",
      "GroupMe : 28260\n",
      "Marco Polo Video Walkie Talkie : 27662\n",
      "Miitomo : 23965\n",
      "SimSimi : 23530\n",
      "Grindr - Gay and same sex guys chat, meet and date : 23201\n",
      "Wishbone - Compare Anything : 20649\n",
      "imo video calls and chat : 18841\n",
      "After School - Funny Anonymous School News : 18482\n",
      "Quick Reposter - Repost, Regram and Reshare Photos : 17694\n",
      "Weibo HD : 16772\n",
      "Repost for Instagram : 15185\n",
      "Live.me – Live Video Chat & Make Friends Nearby : 14724\n",
      "Nextdoor : 14402\n",
      "Followers Analytics for Instagram - InstaReport : 13914\n",
      "YouNow: Live Stream Video Chat : 12079\n",
      "FollowMeter for Instagram - Followers Tracking : 11976\n",
      "LINE : 11437\n",
      "eHarmony™ Dating App - Meet Singles : 11124\n",
      "Discord - Chat for Gamers : 9152\n",
      "QQ : 9109\n",
      "Telegram Messenger : 7573\n",
      "Weibo : 7265\n",
      "Periscope - Live Video Streaming Around the World : 6062\n",
      "Chat for Whatsapp - iPad Version : 5060\n",
      "QQ HD : 5058\n",
      "Followers Analysis Tool For Instagram App Free : 4253\n",
      "live.ly - live video streaming : 4145\n",
      "Houseparty - Group Video Chat : 3991\n",
      "SOMA Messenger : 3232\n",
      "Monkey : 3060\n",
      "Down To Lunch : 2535\n",
      "Flinch - Video Chat Staring Contest : 2134\n",
      "Highrise - Your Avatar Community : 2011\n",
      "LOVOO - Dating Chat : 1985\n",
      "PlayStation®Messages : 1918\n",
      "BOO! - Video chat camera with filters & stickers : 1805\n",
      "Qzone : 1649\n",
      "Chatous - Chat with new people : 1609\n",
      "Kiwi - Q&A : 1538\n",
      "GhostCodes - a discovery app for Snapchat : 1313\n",
      "Jodel : 1193\n",
      "FireChat : 1037\n",
      "Google Duo - simple video calling : 1033\n",
      "Fiesta by Tango - Chat & Meet New People : 885\n",
      "Google Allo — smart messaging : 862\n",
      "Peach — share vividly : 727\n",
      "Hey! VINA - Where Women Meet New Friends : 719\n",
      "Battlefield™ Companion : 689\n",
      "All Devices for WhatsApp - Messenger for iPad : 682\n",
      "Chat for Pokemon Go - GoChat : 500\n",
      "IAmNaughty – Dating App to Meet New People Online : 463\n",
      "Qzone HD : 458\n",
      "Zenly - Locate your friends in realtime : 427\n",
      "League of Legends Friends : 420\n",
      "豆瓣 : 407\n",
      "Candid - Speak Your Mind Freely : 398\n",
      "知乎 : 397\n",
      "Selfeo : 366\n",
      "Fake-A-Location Free ™ : 354\n",
      "Popcorn Buzz - Free Group Calls : 281\n",
      "Fam — Group video calling for iMessage : 279\n",
      "QQ International : 274\n",
      "Ameba : 269\n",
      "SoundCloud Pulse: for creators : 240\n",
      "Tantan : 235\n",
      "Cougar Dating & Life Style App for Mature Women : 213\n",
      "Rawr Messenger - Dab your chat : 180\n",
      "WhenToPost: Best Time to Post Photos for Instagram : 158\n",
      "Inke—Broadcast an amazing life : 147\n",
      "Mustknow - anonymous video Q&A : 53\n",
      "CTFxCmoji : 39\n",
      "Lobi : 36\n",
      "Chain: Collaborate On MyVideo Story/Group Video : 35\n",
      "botman - Real time video chat : 7\n",
      "BestieBox : 0\n",
      "MATCH ON LINE chat : 0\n",
      "niconico ch : 0\n",
      "LINE BLOG : 0\n",
      "bit-tube - Live Stream Video Chat : 0\n"
     ]
    }
   ],
   "source": [
    "for app in ios_final:\n",
    "    if app[11] == 'Social Networking':\n",
    "        print(app[1], ':', app[5])"
   ]
  },
  {
   "cell_type": "markdown",
   "metadata": {},
   "source": [
    "Social apps are dominated by Facebook, Pinterest, Skype, Messenger, and Tumblr. There are also a lot of apps in this category, which might make it harder to compete. "
   ]
  },
  {
   "cell_type": "markdown",
   "metadata": {},
   "source": [
    "Now I have an overall idea of App Store data, so I want to analyze Google Play Store data. Firstly, I will do some exploration of the installs column."
   ]
  },
  {
   "cell_type": "code",
   "execution_count": 32,
   "metadata": {
    "collapsed": false
   },
   "outputs": [
    {
     "name": "stdout",
     "output_type": "stream",
     "text": [
      "1,000,000+ : 15.726534296028879\n",
      "100,000+ : 11.552346570397113\n",
      "10,000,000+ : 10.548285198555957\n",
      "10,000+ : 10.198555956678701\n",
      "1,000+ : 8.393501805054152\n",
      "100+ : 6.915613718411552\n",
      "5,000,000+ : 6.825361010830325\n",
      "500,000+ : 5.561823104693141\n",
      "50,000+ : 4.7721119133574\n",
      "5,000+ : 4.512635379061372\n",
      "10+ : 3.5424187725631766\n",
      "500+ : 3.2490974729241873\n",
      "50,000,000+ : 2.3014440433213\n",
      "100,000,000+ : 2.1322202166064983\n",
      "50+ : 1.917870036101083\n",
      "5+ : 0.78971119133574\n",
      "1+ : 0.5076714801444043\n",
      "500,000,000+ : 0.2707581227436823\n",
      "1,000,000,000+ : 0.22563176895306858\n",
      "0+ : 0.04512635379061372\n",
      "0 : 0.01128158844765343\n"
     ]
    }
   ],
   "source": [
    "display_table(android_final, 5) "
   ]
  },
  {
   "cell_type": "markdown",
   "metadata": {},
   "source": [
    "It seems that the data provided in a way which requires me to do some additional calculations in the code (because I cannot count these strings, and additional symbols will not allow me to transform them into floats the way they are). I will further use the same method as before to define the most popular apps in Google Play Store based on the amount of installs. "
   ]
  },
  {
   "cell_type": "code",
   "execution_count": 33,
   "metadata": {
    "collapsed": false
   },
   "outputs": [
    {
     "name": "stdout",
     "output_type": "stream",
     "text": [
      "COMMUNICATION : 38456119.167247385\n",
      "SPORTS : 3638640.1428571427\n",
      "BEAUTY : 513151.88679245283\n",
      "HOUSE_AND_HOME : 1331540.5616438356\n",
      "GAME : 15588015.603248259\n",
      "BUSINESS : 1712290.1474201474\n",
      "FOOD_AND_DRINK : 1924897.7363636363\n",
      "SOCIAL : 23253652.127118643\n",
      "LIFESTYLE : 1437816.2687861272\n",
      "MAPS_AND_NAVIGATION : 4056941.7741935486\n",
      "NEWS_AND_MAGAZINES : 9549178.467741935\n",
      "EDUCATION : 1833495.145631068\n",
      "BOOKS_AND_REFERENCE : 8767811.894736841\n",
      "TOOLS : 10801391.298666667\n",
      "SHOPPING : 7036877.311557789\n",
      "LIBRARIES_AND_DEMO : 638503.734939759\n",
      "DATING : 854028.8303030303\n",
      "PERSONALIZATION : 5201482.6122448975\n",
      "AUTO_AND_VEHICLES : 647317.8170731707\n",
      "PRODUCTIVITY : 16787331.344927534\n",
      "VIDEO_PLAYERS : 24727872.452830188\n",
      "PARENTING : 542603.6206896552\n",
      "FINANCE : 1387692.475609756\n",
      "TRAVEL_AND_LOCAL : 13984077.710144928\n",
      "MEDICAL : 120550.61980830671\n",
      "WEATHER : 5074486.197183099\n",
      "ART_AND_DESIGN : 1986335.0877192982\n",
      "PHOTOGRAPHY : 17840110.40229885\n",
      "ENTERTAINMENT : 11640705.88235294\n",
      "COMICS : 817657.2727272727\n",
      "EVENTS : 253542.22222222222\n",
      "HEALTH_AND_FITNESS : 4188821.9853479853\n",
      "FAMILY : 3695641.8198090694\n"
     ]
    }
   ],
   "source": [
    "categories_android = freq_table(android_final, 1)\n",
    "\n",
    "for category in categories_android:\n",
    "    total = 0\n",
    "    len_category = 0\n",
    "    for app in android_final:\n",
    "        category_app = app[1]\n",
    "        if category == category_app:\n",
    "            number_installs = app[5]\n",
    "            number_installs = number_installs.replace('+', '') #first part of transforming string\n",
    "            number_installs = number_installs.replace(',', '') #second part of transforming string\n",
    "            total += float(number_installs)\n",
    "            len_category += 1\n",
    "    avg_installs_number = total / len_category\n",
    "    print(category, \":\", avg_installs_number)"
   ]
  },
  {
   "cell_type": "markdown",
   "metadata": {
    "collapsed": true
   },
   "source": [
    "I can see that the most popular apps in Google Play Store are Communication, Video Players, Photography, Productivity, Games, Travel and local, Tools, Entertainment, and Reference. I do think that most of the categories are in fact not that popular and are dominated by huge giants. I will test this assumption below. "
   ]
  },
  {
   "cell_type": "code",
   "execution_count": 34,
   "metadata": {
    "collapsed": false
   },
   "outputs": [
    {
     "name": "stdout",
     "output_type": "stream",
     "text": [
      "WhatsApp Messenger : 1,000,000,000+\n",
      "imo beta free calls and text : 100,000,000+\n",
      "Android Messages : 100,000,000+\n",
      "Google Duo - High Quality Video Calls : 500,000,000+\n",
      "Messenger – Text and Video Chat for Free : 1,000,000,000+\n",
      "imo free video calls and chat : 500,000,000+\n",
      "Skype - free IM & video calls : 1,000,000,000+\n",
      "Who : 100,000,000+\n",
      "GO SMS Pro - Messenger, Free Themes, Emoji : 100,000,000+\n",
      "LINE: Free Calls & Messages : 500,000,000+\n",
      "Google Chrome: Fast & Secure : 1,000,000,000+\n",
      "Firefox Browser fast & private : 100,000,000+\n",
      "UC Browser - Fast Download Private & Secure : 500,000,000+\n",
      "Gmail : 1,000,000,000+\n",
      "Hangouts : 1,000,000,000+\n",
      "Messenger Lite: Free Calls & Messages : 100,000,000+\n",
      "Kik : 100,000,000+\n",
      "KakaoTalk: Free Calls & Text : 100,000,000+\n",
      "Opera Mini - fast web browser : 100,000,000+\n",
      "Opera Browser: Fast and Secure : 100,000,000+\n",
      "Telegram : 100,000,000+\n",
      "Truecaller: Caller ID, SMS spam blocking & Dialer : 100,000,000+\n",
      "UC Browser Mini -Tiny Fast Private & Secure : 100,000,000+\n",
      "Viber Messenger : 500,000,000+\n",
      "WeChat : 100,000,000+\n",
      "Yahoo Mail – Stay Organized : 100,000,000+\n",
      "BBM - Free Calls & Messages : 100,000,000+\n"
     ]
    }
   ],
   "source": [
    "for app in android_final:\n",
    "    if app[1] == 'COMMUNICATION' and (app[5] == '1,000,000,000+'\n",
    "                                      or app[5] == '500,000,000+'\n",
    "                                      or app[5] == '100,000,000+'):\n",
    "        print(app[0], ':', app[5])"
   ]
  },
  {
   "cell_type": "markdown",
   "metadata": {
    "collapsed": true
   },
   "source": [
    "I want to see what remains in the Communication genre once the biggest apps are removed. "
   ]
  },
  {
   "cell_type": "code",
   "execution_count": 35,
   "metadata": {
    "collapsed": false
   },
   "outputs": [
    {
     "data": {
      "text/plain": [
       "3603485.3884615386"
      ]
     },
     "execution_count": 35,
     "metadata": {},
     "output_type": "execute_result"
    }
   ],
   "source": [
    "under_100m = []\n",
    "for app in android_final:\n",
    "    number_installs = app[5]\n",
    "    number_installs = number_installs.replace(',', '')\n",
    "    number_installs = number_installs.replace('+', '')\n",
    "    if float(number_installs) < 100000000 and (app[1] == 'COMMUNICATION'):\n",
    "        under_100m.append(float(number_installs))\n",
    "\n",
    "sum(under_100m) / len(under_100m)"
   ]
  },
  {
   "cell_type": "markdown",
   "metadata": {},
   "source": [
    "The number of installs went down from 38mil to 3.6mil for the category, meaning that the big apps are distorting the resul, changing the skewness of the apps distribution. I want to see if similiar is truth for Video Players and Refreneces. I will transform my code into function."
   ]
  },
  {
   "cell_type": "code",
   "execution_count": 36,
   "metadata": {
    "collapsed": false
   },
   "outputs": [],
   "source": [
    "def most_popular(dataset, genre):\n",
    "    for app in dataset:\n",
    "        if app[1] == genre and (app[5] == '1,000,000,000+'\n",
    "                                      or app[5] == '500,000,000+'\n",
    "                                      or app[5] == '100,000,000+'):\n",
    "            return (print(app[0], ':', app[5]))"
   ]
  },
  {
   "cell_type": "code",
   "execution_count": 37,
   "metadata": {
    "collapsed": false
   },
   "outputs": [
    {
     "name": "stdout",
     "output_type": "stream",
     "text": [
      "YouTube : 1,000,000,000+\n"
     ]
    }
   ],
   "source": [
    "vp_pop = most_popular(android_final, 'VIDEO_PLAYERS')"
   ]
  },
  {
   "cell_type": "code",
   "execution_count": 38,
   "metadata": {
    "collapsed": false
   },
   "outputs": [
    {
     "data": {
      "text/plain": [
       "5544878.133333334"
      ]
     },
     "execution_count": 38,
     "metadata": {},
     "output_type": "execute_result"
    }
   ],
   "source": [
    "under_100mvp = []\n",
    "for app in android_final:\n",
    "    number_inst = app[5]\n",
    "    number_inst = number_inst.replace('+', '')\n",
    "    number_inst = number_inst.replace(',', '')\n",
    "    if (float(number_inst) < 100000000) and (app[1] == 'VIDEO_PLAYERS'):\n",
    "        under_100mvp.append(float(number_inst))\n",
    "\n",
    "sum(under_100mvp) / len(under_100mvp)"
   ]
  },
  {
   "cell_type": "markdown",
   "metadata": {},
   "source": [
    "The situation is almost similiar: after removing the most popular apps, the amount of installs dropped from 24m to 5.5m, almost five times. It means that if the company decides to make a video editing app, they either need to compete with huge giants or not to expect too many installs."
   ]
  },
  {
   "cell_type": "code",
   "execution_count": 39,
   "metadata": {
    "collapsed": false
   },
   "outputs": [
    {
     "name": "stdout",
     "output_type": "stream",
     "text": [
      "Google Play Books : 1,000,000,000+\n"
     ]
    }
   ],
   "source": [
    "ref_pop = most_popular(android_final, 'BOOKS_AND_REFERENCE')"
   ]
  },
  {
   "cell_type": "code",
   "execution_count": 40,
   "metadata": {
    "collapsed": false
   },
   "outputs": [
    {
     "data": {
      "text/plain": [
       "1437212.2162162163"
      ]
     },
     "execution_count": 40,
     "metadata": {},
     "output_type": "execute_result"
    }
   ],
   "source": [
    "under_100ref = []\n",
    "for app in android_final:\n",
    "    number_inst = app[5]\n",
    "    number_inst = number_inst.replace('+', '')\n",
    "    number_inst = number_inst.replace(',', '')\n",
    "    if float(number_inst) < 100000000 and (app[1] == \"BOOKS_AND_REFERENCE\"):\n",
    "        under_100ref.append(float(number_inst))\n",
    "\n",
    "sum(under_100ref) / len(under_100ref)"
   ]
  },
  {
   "cell_type": "code",
   "execution_count": 41,
   "metadata": {
    "collapsed": false
   },
   "outputs": [
    {
     "name": "stdout",
     "output_type": "stream",
     "text": [
      "Booking.com Travel Deals : 100,000,000+\n"
     ]
    }
   ],
   "source": [
    "travel_pop = most_popular(android_final, 'TRAVEL_AND_LOCAL')"
   ]
  },
  {
   "cell_type": "code",
   "execution_count": 42,
   "metadata": {
    "collapsed": false
   },
   "outputs": [
    {
     "data": {
      "text/plain": [
       "2944079.6336633665"
      ]
     },
     "execution_count": 42,
     "metadata": {},
     "output_type": "execute_result"
    }
   ],
   "source": [
    "under_100trav = []\n",
    "for app in android_final:\n",
    "    number_inst = app[5]\n",
    "    number_inst = number_inst.replace('+', '')\n",
    "    number_inst = number_inst.replace(',', '')\n",
    "    if float(number_inst) < 100000000 and (app[1] == \"TRAVEL_AND_LOCAL\"):\n",
    "        under_100trav.append(float(number_inst))\n",
    "\n",
    "sum(under_100trav) / len(under_100trav)"
   ]
  },
  {
   "cell_type": "markdown",
   "metadata": {},
   "source": [
    "One idea could be to make a reference application. The most popular are dedicated either to religious texts or games. If choosing this path, I would suggest makin a reference app for a game. \n",
    "\n",
    "Another way is to go for a travel and local guide, which can be stored in App Store as a reference. It seems that the category of travel is relatively popular in Google Play Store, and there is only one indeed big application (Booking). Thus, it is a possibility to create something dedicated and useful, while keeping it playful enough to satisfy App Store's ausience interests. "
   ]
  },
  {
   "cell_type": "code",
   "execution_count": null,
   "metadata": {
    "collapsed": true
   },
   "outputs": [],
   "source": []
  }
 ],
 "metadata": {
  "kernelspec": {
   "display_name": "Python 3",
   "language": "python",
   "name": "python3"
  },
  "language_info": {
   "codemirror_mode": {
    "name": "ipython",
    "version": 3
   },
   "file_extension": ".py",
   "mimetype": "text/x-python",
   "name": "python",
   "nbconvert_exporter": "python",
   "pygments_lexer": "ipython3",
   "version": "3.4.3"
  }
 },
 "nbformat": 4,
 "nbformat_minor": 2
}
